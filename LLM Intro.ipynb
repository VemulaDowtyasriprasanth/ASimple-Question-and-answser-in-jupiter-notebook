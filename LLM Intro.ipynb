{
 "cells": [
  {
   "cell_type": "markdown",
   "id": "b947c78e",
   "metadata": {},
   "source": [
    "<font color='green'>\n",
    "Pip install is the command you use to install Python packages with the help of a tool called Pip package manager.\n",
    "<br><br>Installing LangChain package\n",
    "</font>"
   ]
  },
  {
   "cell_type": "code",
   "execution_count": 1,
   "id": "8236fd59",
   "metadata": {},
   "outputs": [
    {
     "name": "stdout",
     "output_type": "stream",
     "text": [
      "Collecting langchain==0.1.13\n",
      "  Downloading langchain-0.1.13-py3-none-any.whl.metadata (13 kB)\n",
      "Requirement already satisfied: PyYAML>=5.3 in c:\\users\\wwwdo\\anaconda3\\lib\\site-packages (from langchain==0.1.13) (6.0.1)\n",
      "Requirement already satisfied: SQLAlchemy<3,>=1.4 in c:\\users\\wwwdo\\anaconda3\\lib\\site-packages (from langchain==0.1.13) (2.0.25)\n",
      "Requirement already satisfied: aiohttp<4.0.0,>=3.8.3 in c:\\users\\wwwdo\\anaconda3\\lib\\site-packages (from langchain==0.1.13) (3.9.3)\n",
      "Collecting dataclasses-json<0.7,>=0.5.7 (from langchain==0.1.13)\n",
      "  Downloading dataclasses_json-0.6.4-py3-none-any.whl.metadata (25 kB)\n",
      "Collecting jsonpatch<2.0,>=1.33 (from langchain==0.1.13)\n",
      "  Downloading jsonpatch-1.33-py2.py3-none-any.whl.metadata (3.0 kB)\n",
      "Collecting langchain-community<0.1,>=0.0.29 (from langchain==0.1.13)\n",
      "  Downloading langchain_community-0.0.29-py3-none-any.whl.metadata (8.3 kB)\n",
      "Collecting langchain-core<0.2.0,>=0.1.33 (from langchain==0.1.13)\n",
      "  Downloading langchain_core-0.1.33-py3-none-any.whl.metadata (6.0 kB)\n",
      "Collecting langchain-text-splitters<0.1,>=0.0.1 (from langchain==0.1.13)\n",
      "  Downloading langchain_text_splitters-0.0.1-py3-none-any.whl.metadata (2.0 kB)\n",
      "Collecting langsmith<0.2.0,>=0.1.17 (from langchain==0.1.13)\n",
      "  Downloading langsmith-0.1.31-py3-none-any.whl.metadata (13 kB)\n",
      "Requirement already satisfied: numpy<2,>=1 in c:\\users\\wwwdo\\anaconda3\\lib\\site-packages (from langchain==0.1.13) (1.26.4)\n",
      "Requirement already satisfied: pydantic<3,>=1 in c:\\users\\wwwdo\\anaconda3\\lib\\site-packages (from langchain==0.1.13) (1.10.12)\n",
      "Requirement already satisfied: requests<3,>=2 in c:\\users\\wwwdo\\anaconda3\\lib\\site-packages (from langchain==0.1.13) (2.31.0)\n",
      "Requirement already satisfied: tenacity<9.0.0,>=8.1.0 in c:\\users\\wwwdo\\anaconda3\\lib\\site-packages (from langchain==0.1.13) (8.2.2)\n",
      "Requirement already satisfied: aiosignal>=1.1.2 in c:\\users\\wwwdo\\anaconda3\\lib\\site-packages (from aiohttp<4.0.0,>=3.8.3->langchain==0.1.13) (1.2.0)\n",
      "Requirement already satisfied: attrs>=17.3.0 in c:\\users\\wwwdo\\anaconda3\\lib\\site-packages (from aiohttp<4.0.0,>=3.8.3->langchain==0.1.13) (23.1.0)\n",
      "Requirement already satisfied: frozenlist>=1.1.1 in c:\\users\\wwwdo\\anaconda3\\lib\\site-packages (from aiohttp<4.0.0,>=3.8.3->langchain==0.1.13) (1.4.0)\n",
      "Requirement already satisfied: multidict<7.0,>=4.5 in c:\\users\\wwwdo\\anaconda3\\lib\\site-packages (from aiohttp<4.0.0,>=3.8.3->langchain==0.1.13) (6.0.4)\n",
      "Requirement already satisfied: yarl<2.0,>=1.0 in c:\\users\\wwwdo\\anaconda3\\lib\\site-packages (from aiohttp<4.0.0,>=3.8.3->langchain==0.1.13) (1.9.3)\n",
      "Collecting marshmallow<4.0.0,>=3.18.0 (from dataclasses-json<0.7,>=0.5.7->langchain==0.1.13)\n",
      "  Downloading marshmallow-3.21.1-py3-none-any.whl.metadata (7.2 kB)\n",
      "Collecting typing-inspect<1,>=0.4.0 (from dataclasses-json<0.7,>=0.5.7->langchain==0.1.13)\n",
      "  Downloading typing_inspect-0.9.0-py3-none-any.whl.metadata (1.5 kB)\n",
      "Requirement already satisfied: jsonpointer>=1.9 in c:\\users\\wwwdo\\anaconda3\\lib\\site-packages (from jsonpatch<2.0,>=1.33->langchain==0.1.13) (2.1)\n",
      "Requirement already satisfied: anyio<5,>=3 in c:\\users\\wwwdo\\anaconda3\\lib\\site-packages (from langchain-core<0.2.0,>=0.1.33->langchain==0.1.13) (4.2.0)\n",
      "Requirement already satisfied: packaging<24.0,>=23.2 in c:\\users\\wwwdo\\appdata\\roaming\\python\\python311\\site-packages (from langchain-core<0.2.0,>=0.1.33->langchain==0.1.13) (23.2)\n",
      "Collecting orjson<4.0.0,>=3.9.14 (from langsmith<0.2.0,>=0.1.17->langchain==0.1.13)\n",
      "  Downloading orjson-3.9.15-cp311-none-win_amd64.whl.metadata (50 kB)\n",
      "     ---------------------------------------- 0.0/50.7 kB ? eta -:--:--\n",
      "     ------------------------------ ------- 41.0/50.7 kB 991.0 kB/s eta 0:00:01\n",
      "     -------------------------------------- 50.7/50.7 kB 860.7 kB/s eta 0:00:00\n",
      "Requirement already satisfied: typing-extensions>=4.2.0 in c:\\users\\wwwdo\\anaconda3\\lib\\site-packages (from pydantic<3,>=1->langchain==0.1.13) (4.9.0)\n",
      "Requirement already satisfied: charset-normalizer<4,>=2 in c:\\users\\wwwdo\\anaconda3\\lib\\site-packages (from requests<3,>=2->langchain==0.1.13) (2.0.4)\n",
      "Requirement already satisfied: idna<4,>=2.5 in c:\\users\\wwwdo\\anaconda3\\lib\\site-packages (from requests<3,>=2->langchain==0.1.13) (3.4)\n",
      "Requirement already satisfied: urllib3<3,>=1.21.1 in c:\\users\\wwwdo\\anaconda3\\lib\\site-packages (from requests<3,>=2->langchain==0.1.13) (2.0.7)\n",
      "Requirement already satisfied: certifi>=2017.4.17 in c:\\users\\wwwdo\\anaconda3\\lib\\site-packages (from requests<3,>=2->langchain==0.1.13) (2024.2.2)\n",
      "Requirement already satisfied: greenlet!=0.4.17 in c:\\users\\wwwdo\\anaconda3\\lib\\site-packages (from SQLAlchemy<3,>=1.4->langchain==0.1.13) (3.0.1)\n",
      "Requirement already satisfied: sniffio>=1.1 in c:\\users\\wwwdo\\anaconda3\\lib\\site-packages (from anyio<5,>=3->langchain-core<0.2.0,>=0.1.33->langchain==0.1.13) (1.3.0)\n",
      "Requirement already satisfied: mypy-extensions>=0.3.0 in c:\\users\\wwwdo\\anaconda3\\lib\\site-packages (from typing-inspect<1,>=0.4.0->dataclasses-json<0.7,>=0.5.7->langchain==0.1.13) (1.0.0)\n",
      "Downloading langchain-0.1.13-py3-none-any.whl (810 kB)\n",
      "   ---------------------------------------- 0.0/810.5 kB ? eta -:--:--\n",
      "   --------- ------------------------------ 184.3/810.5 kB 3.7 MB/s eta 0:00:01\n",
      "   ----------------------- ---------------- 481.3/810.5 kB 6.0 MB/s eta 0:00:01\n",
      "   ---------------------------------------- 810.5/810.5 kB 6.4 MB/s eta 0:00:00\n",
      "Downloading dataclasses_json-0.6.4-py3-none-any.whl (28 kB)\n",
      "Downloading jsonpatch-1.33-py2.py3-none-any.whl (12 kB)\n",
      "Downloading langchain_community-0.0.29-py3-none-any.whl (1.8 MB)\n",
      "   ---------------------------------------- 0.0/1.8 MB ? eta -:--:--\n",
      "   ------------------------------ --------- 1.4/1.8 MB 29.4 MB/s eta 0:00:01\n",
      "   ---------------------------------------  1.8/1.8 MB 28.3 MB/s eta 0:00:01\n",
      "   ---------------------------------------- 1.8/1.8 MB 19.0 MB/s eta 0:00:00\n",
      "Downloading langchain_core-0.1.33-py3-none-any.whl (269 kB)\n",
      "   ---------------------------------------- 0.0/269.1 kB ? eta -:--:--\n",
      "   --------------------------------------- 269.1/269.1 kB 17.3 MB/s eta 0:00:00\n",
      "Downloading langchain_text_splitters-0.0.1-py3-none-any.whl (21 kB)\n",
      "Downloading langsmith-0.1.31-py3-none-any.whl (71 kB)\n",
      "   ---------------------------------------- 0.0/71.6 kB ? eta -:--:--\n",
      "   ---------------------------------------- 71.6/71.6 kB ? eta 0:00:00\n",
      "Downloading marshmallow-3.21.1-py3-none-any.whl (49 kB)\n",
      "   ---------------------------------------- 0.0/49.4 kB ? eta -:--:--\n",
      "   ---------------------------------------- 49.4/49.4 kB 2.6 MB/s eta 0:00:00\n",
      "Downloading orjson-3.9.15-cp311-none-win_amd64.whl (136 kB)\n",
      "   ---------------------------------------- 0.0/136.0 kB ? eta -:--:--\n",
      "   ---------------------------------------- 136.0/136.0 kB 7.9 MB/s eta 0:00:00\n",
      "Downloading typing_inspect-0.9.0-py3-none-any.whl (8.8 kB)\n",
      "Installing collected packages: typing-inspect, orjson, marshmallow, jsonpatch, langsmith, dataclasses-json, langchain-core, langchain-text-splitters, langchain-community, langchain\n",
      "  Attempting uninstall: jsonpatch\n",
      "    Found existing installation: jsonpatch 1.32\n",
      "    Uninstalling jsonpatch-1.32:\n",
      "      Successfully uninstalled jsonpatch-1.32\n",
      "Successfully installed dataclasses-json-0.6.4 jsonpatch-1.33 langchain-0.1.13 langchain-community-0.0.29 langchain-core-0.1.33 langchain-text-splitters-0.0.1 langsmith-0.1.31 marshmallow-3.21.1 orjson-3.9.15 typing-inspect-0.9.0\n"
     ]
    }
   ],
   "source": [
    "!pip install langchain==0.1.13"
   ]
  },
  {
   "cell_type": "markdown",
   "id": "32c225b4",
   "metadata": {},
   "source": [
    "## Let's use Proprietary LLM from - OpenAI"
   ]
  },
  {
   "cell_type": "markdown",
   "id": "2a0e925c",
   "metadata": {},
   "source": [
    "<font color='green'>\n",
    "Installing Openai package, which includes the classes that we can use to communicate with Openai services\n",
    "<font>"
   ]
  },
  {
   "cell_type": "code",
   "execution_count": 2,
   "id": "5cb5a1a7",
   "metadata": {},
   "outputs": [
    {
     "name": "stdout",
     "output_type": "stream",
     "text": [
      "Collecting openai==1.14.2\n",
      "  Downloading openai-1.14.2-py3-none-any.whl.metadata (19 kB)\n",
      "Requirement already satisfied: anyio<5,>=3.5.0 in c:\\users\\wwwdo\\anaconda3\\lib\\site-packages (from openai==1.14.2) (4.2.0)\n",
      "Requirement already satisfied: distro<2,>=1.7.0 in c:\\users\\wwwdo\\anaconda3\\lib\\site-packages (from openai==1.14.2) (1.8.0)\n",
      "Collecting httpx<1,>=0.23.0 (from openai==1.14.2)\n",
      "  Downloading httpx-0.27.0-py3-none-any.whl.metadata (7.2 kB)\n",
      "Requirement already satisfied: pydantic<3,>=1.9.0 in c:\\users\\wwwdo\\anaconda3\\lib\\site-packages (from openai==1.14.2) (1.10.12)\n",
      "Requirement already satisfied: sniffio in c:\\users\\wwwdo\\anaconda3\\lib\\site-packages (from openai==1.14.2) (1.3.0)\n",
      "Requirement already satisfied: tqdm>4 in c:\\users\\wwwdo\\anaconda3\\lib\\site-packages (from openai==1.14.2) (4.65.0)\n",
      "Requirement already satisfied: typing-extensions<5,>=4.7 in c:\\users\\wwwdo\\anaconda3\\lib\\site-packages (from openai==1.14.2) (4.9.0)\n",
      "Requirement already satisfied: idna>=2.8 in c:\\users\\wwwdo\\anaconda3\\lib\\site-packages (from anyio<5,>=3.5.0->openai==1.14.2) (3.4)\n",
      "Requirement already satisfied: certifi in c:\\users\\wwwdo\\anaconda3\\lib\\site-packages (from httpx<1,>=0.23.0->openai==1.14.2) (2024.2.2)\n",
      "Collecting httpcore==1.* (from httpx<1,>=0.23.0->openai==1.14.2)\n",
      "  Downloading httpcore-1.0.4-py3-none-any.whl.metadata (20 kB)\n",
      "Collecting h11<0.15,>=0.13 (from httpcore==1.*->httpx<1,>=0.23.0->openai==1.14.2)\n",
      "  Downloading h11-0.14.0-py3-none-any.whl.metadata (8.2 kB)\n",
      "Requirement already satisfied: colorama in c:\\users\\wwwdo\\appdata\\roaming\\python\\python311\\site-packages (from tqdm>4->openai==1.14.2) (0.4.6)\n",
      "Downloading openai-1.14.2-py3-none-any.whl (262 kB)\n",
      "   ---------------------------------------- 0.0/262.4 kB ? eta -:--:--\n",
      "   ------ -------------------------------- 41.0/262.4 kB 991.0 kB/s eta 0:00:01\n",
      "   ------------------------------- -------- 204.8/262.4 kB 2.5 MB/s eta 0:00:01\n",
      "   ---------------------------------------- 262.4/262.4 kB 2.7 MB/s eta 0:00:00\n",
      "Downloading httpx-0.27.0-py3-none-any.whl (75 kB)\n",
      "   ---------------------------------------- 0.0/75.6 kB ? eta -:--:--\n",
      "   ---------------------------------------- 75.6/75.6 kB 4.4 MB/s eta 0:00:00\n",
      "Downloading httpcore-1.0.4-py3-none-any.whl (77 kB)\n",
      "   ---------------------------------------- 0.0/77.8 kB ? eta -:--:--\n",
      "   ---------------------------------------- 77.8/77.8 kB 4.5 MB/s eta 0:00:00\n",
      "Downloading h11-0.14.0-py3-none-any.whl (58 kB)\n",
      "   ---------------------------------------- 0.0/58.3 kB ? eta -:--:--\n",
      "   ---------------------------------------- 58.3/58.3 kB 3.0 MB/s eta 0:00:00\n",
      "Installing collected packages: h11, httpcore, httpx, openai\n",
      "Successfully installed h11-0.14.0 httpcore-1.0.4 httpx-0.27.0 openai-1.14.2\n"
     ]
    }
   ],
   "source": [
    "!pip install openai==1.14.2"
   ]
  },
  {
   "cell_type": "markdown",
   "id": "f274e9c5",
   "metadata": {},
   "source": [
    "<font color='green'>\n",
    "Imports the Python built-in module called \"os.\"\n",
    "<br>This module provides a way to interact with the operating system, such as accessing environment variables, working with files and directories, executing shell commands, etc\n",
    "<br><br>\n",
    "The environ attribute is a dictionary-like object that contains the environment variables of the current operating system session\n",
    "<br><br>\n",
    "By accessing os.environ, you can retrieve and manipulate environment variables within your Python program. For example, you can retrieve the value of a specific environment variable using the syntax os.environ['VARIABLE_NAME'], where \"VARIABLE_NAME\" is the name of the environment variable you want to access.\n",
    "<font>"
   ]
  },
  {
   "cell_type": "code",
   "execution_count": 4,
   "id": "a4d278e8",
   "metadata": {},
   "outputs": [],
   "source": [
    "import os\n",
    "os.environ[\"OPENAI_API_KEY\"] = \"\""
   ]
  },
  {
   "cell_type": "markdown",
   "id": "5aef06cb",
   "metadata": {},
   "source": [
    "<font color='green'>\n",
    "LangChain has built a Wrapper around OpenAI APIs, using which we can get access to all the services OpenAI provides.\n",
    "<br>\n",
    "The code snippet below imports a specific class called 'OpenAI'(Wrapper around OpenAI large language models) from the 'llms' module of the 'langchain' library.\n",
    "\n",
    "<br>https://python.langchain.com/en/latest/_modules/langchain/llms/openai.html\n",
    "<font>"
   ]
  },
  {
   "cell_type": "code",
   "execution_count": 5,
   "id": "db64eaa7",
   "metadata": {},
   "outputs": [
    {
     "name": "stderr",
     "output_type": "stream",
     "text": [
      "WARNING: The candidate selected for download or install is a yanked version: 'langchain-openai' candidate (version 0.1.0 at https://files.pythonhosted.org/packages/6d/f4/bea64066e93a4980f0d8352af733f950ff0eea98cca5000a4ca1ff2ae2b8/langchain_openai-0.1.0-py3-none-any.whl (from https://pypi.org/simple/langchain-openai/) (requires-python:<4.0,>=3.8.1))\n",
      "Reason for being yanked: Contained a regression that prevented passing ToolMessage in the input to ChatOpenAI, fixed in 0.1.1\n"
     ]
    },
    {
     "name": "stdout",
     "output_type": "stream",
     "text": [
      "Collecting langchain-openai==0.1.0\n",
      "  Downloading langchain_openai-0.1.0-py3-none-any.whl.metadata (2.5 kB)\n",
      "Requirement already satisfied: langchain-core<0.2.0,>=0.1.33 in c:\\users\\wwwdo\\anaconda3\\lib\\site-packages (from langchain-openai==0.1.0) (0.1.33)\n",
      "Requirement already satisfied: openai<2.0.0,>=1.10.0 in c:\\users\\wwwdo\\anaconda3\\lib\\site-packages (from langchain-openai==0.1.0) (1.14.2)\n",
      "Collecting tiktoken<1,>=0.5.2 (from langchain-openai==0.1.0)\n",
      "  Downloading tiktoken-0.6.0-cp311-cp311-win_amd64.whl.metadata (6.8 kB)\n",
      "Requirement already satisfied: PyYAML>=5.3 in c:\\users\\wwwdo\\anaconda3\\lib\\site-packages (from langchain-core<0.2.0,>=0.1.33->langchain-openai==0.1.0) (6.0.1)\n",
      "Requirement already satisfied: anyio<5,>=3 in c:\\users\\wwwdo\\anaconda3\\lib\\site-packages (from langchain-core<0.2.0,>=0.1.33->langchain-openai==0.1.0) (4.2.0)\n",
      "Requirement already satisfied: jsonpatch<2.0,>=1.33 in c:\\users\\wwwdo\\anaconda3\\lib\\site-packages (from langchain-core<0.2.0,>=0.1.33->langchain-openai==0.1.0) (1.33)\n",
      "Requirement already satisfied: langsmith<0.2.0,>=0.1.0 in c:\\users\\wwwdo\\anaconda3\\lib\\site-packages (from langchain-core<0.2.0,>=0.1.33->langchain-openai==0.1.0) (0.1.31)\n",
      "Requirement already satisfied: packaging<24.0,>=23.2 in c:\\users\\wwwdo\\appdata\\roaming\\python\\python311\\site-packages (from langchain-core<0.2.0,>=0.1.33->langchain-openai==0.1.0) (23.2)\n",
      "Requirement already satisfied: pydantic<3,>=1 in c:\\users\\wwwdo\\anaconda3\\lib\\site-packages (from langchain-core<0.2.0,>=0.1.33->langchain-openai==0.1.0) (1.10.12)\n",
      "Requirement already satisfied: requests<3,>=2 in c:\\users\\wwwdo\\anaconda3\\lib\\site-packages (from langchain-core<0.2.0,>=0.1.33->langchain-openai==0.1.0) (2.31.0)\n",
      "Requirement already satisfied: tenacity<9.0.0,>=8.1.0 in c:\\users\\wwwdo\\anaconda3\\lib\\site-packages (from langchain-core<0.2.0,>=0.1.33->langchain-openai==0.1.0) (8.2.2)\n",
      "Requirement already satisfied: distro<2,>=1.7.0 in c:\\users\\wwwdo\\anaconda3\\lib\\site-packages (from openai<2.0.0,>=1.10.0->langchain-openai==0.1.0) (1.8.0)\n",
      "Requirement already satisfied: httpx<1,>=0.23.0 in c:\\users\\wwwdo\\anaconda3\\lib\\site-packages (from openai<2.0.0,>=1.10.0->langchain-openai==0.1.0) (0.27.0)\n",
      "Requirement already satisfied: sniffio in c:\\users\\wwwdo\\anaconda3\\lib\\site-packages (from openai<2.0.0,>=1.10.0->langchain-openai==0.1.0) (1.3.0)\n",
      "Requirement already satisfied: tqdm>4 in c:\\users\\wwwdo\\anaconda3\\lib\\site-packages (from openai<2.0.0,>=1.10.0->langchain-openai==0.1.0) (4.65.0)\n",
      "Requirement already satisfied: typing-extensions<5,>=4.7 in c:\\users\\wwwdo\\anaconda3\\lib\\site-packages (from openai<2.0.0,>=1.10.0->langchain-openai==0.1.0) (4.9.0)\n",
      "Requirement already satisfied: regex>=2022.1.18 in c:\\users\\wwwdo\\anaconda3\\lib\\site-packages (from tiktoken<1,>=0.5.2->langchain-openai==0.1.0) (2023.10.3)\n",
      "Requirement already satisfied: idna>=2.8 in c:\\users\\wwwdo\\anaconda3\\lib\\site-packages (from anyio<5,>=3->langchain-core<0.2.0,>=0.1.33->langchain-openai==0.1.0) (3.4)\n",
      "Requirement already satisfied: certifi in c:\\users\\wwwdo\\anaconda3\\lib\\site-packages (from httpx<1,>=0.23.0->openai<2.0.0,>=1.10.0->langchain-openai==0.1.0) (2024.2.2)\n",
      "Requirement already satisfied: httpcore==1.* in c:\\users\\wwwdo\\anaconda3\\lib\\site-packages (from httpx<1,>=0.23.0->openai<2.0.0,>=1.10.0->langchain-openai==0.1.0) (1.0.4)\n",
      "Requirement already satisfied: h11<0.15,>=0.13 in c:\\users\\wwwdo\\anaconda3\\lib\\site-packages (from httpcore==1.*->httpx<1,>=0.23.0->openai<2.0.0,>=1.10.0->langchain-openai==0.1.0) (0.14.0)\n",
      "Requirement already satisfied: jsonpointer>=1.9 in c:\\users\\wwwdo\\anaconda3\\lib\\site-packages (from jsonpatch<2.0,>=1.33->langchain-core<0.2.0,>=0.1.33->langchain-openai==0.1.0) (2.1)\n",
      "Requirement already satisfied: orjson<4.0.0,>=3.9.14 in c:\\users\\wwwdo\\anaconda3\\lib\\site-packages (from langsmith<0.2.0,>=0.1.0->langchain-core<0.2.0,>=0.1.33->langchain-openai==0.1.0) (3.9.15)\n",
      "Requirement already satisfied: charset-normalizer<4,>=2 in c:\\users\\wwwdo\\anaconda3\\lib\\site-packages (from requests<3,>=2->langchain-core<0.2.0,>=0.1.33->langchain-openai==0.1.0) (2.0.4)\n",
      "Requirement already satisfied: urllib3<3,>=1.21.1 in c:\\users\\wwwdo\\anaconda3\\lib\\site-packages (from requests<3,>=2->langchain-core<0.2.0,>=0.1.33->langchain-openai==0.1.0) (2.0.7)\n",
      "Requirement already satisfied: colorama in c:\\users\\wwwdo\\appdata\\roaming\\python\\python311\\site-packages (from tqdm>4->openai<2.0.0,>=1.10.0->langchain-openai==0.1.0) (0.4.6)\n",
      "Downloading langchain_openai-0.1.0-py3-none-any.whl (32 kB)\n",
      "Downloading tiktoken-0.6.0-cp311-cp311-win_amd64.whl (798 kB)\n",
      "   ---------------------------------------- 0.0/798.7 kB ? eta -:--:--\n",
      "   - ------------------------------------- 30.7/798.7 kB 435.7 kB/s eta 0:00:02\n",
      "   ------ --------------------------------- 122.9/798.7 kB 1.2 MB/s eta 0:00:01\n",
      "   ----------- ---------------------------- 235.5/798.7 kB 1.8 MB/s eta 0:00:01\n",
      "   ------------------ --------------------- 368.6/798.7 kB 1.9 MB/s eta 0:00:01\n",
      "   ------------------------- -------------- 501.8/798.7 kB 2.3 MB/s eta 0:00:01\n",
      "   --------------------------------- ------ 665.6/798.7 kB 2.3 MB/s eta 0:00:01\n",
      "   ---------------------------------------  788.5/798.7 kB 2.5 MB/s eta 0:00:01\n",
      "   ---------------------------------------- 798.7/798.7 kB 2.4 MB/s eta 0:00:00\n",
      "Installing collected packages: tiktoken, langchain-openai\n",
      "Successfully installed langchain-openai-0.1.0 tiktoken-0.6.0\n"
     ]
    }
   ],
   "source": [
    "#As Langchain team has been working aggresively on improving the tool, we can see a lot of changes happening every weeek,\n",
    "#As a part of it, the below import has been depreciated\n",
    "#from langchain.llms import OpenAI\n",
    "\n",
    "#First we'll need to import the below LangChain - OpenAI integration package and then import it please, if not installed already\n",
    "\n",
    "!pip install langchain-openai==0.1.0\n",
    "\n",
    "from langchain_openai import OpenAI"
   ]
  },
  {
   "cell_type": "markdown",
   "id": "6a9d124f",
   "metadata": {},
   "source": [
    "<font color='green'>Here we are instantiating a language model object called OpenAI, for our natural language processing tasks.\n",
    "<br><br>\n",
    "The parameter model_name is provided with the value \"text-davinci-003\" which is a specific version or variant of a language model (examples - text-davinci-003, code-davinci-002, gpt-3.5-turbo, text-ada-001 and more).\n",
    "<font>"
   ]
  },
  {
   "cell_type": "code",
   "execution_count": 6,
   "id": "9a3be989",
   "metadata": {},
   "outputs": [],
   "source": [
    "# 'text-davinci-003' model is depreciated now, so we are using the openai's reccomended model\n",
    "llm = OpenAI(model_name=\"gpt-3.5-turbo-instruct\")"
   ]
  },
  {
   "cell_type": "markdown",
   "id": "396c7904",
   "metadata": {},
   "source": [
    "<font color='green'>\n",
    "Here language model is represented by the object \"llm,\" which is being utilized to generate a completion or response based on a specific query. \n",
    "<br><br>\n",
    "The query, stored in the \"our_query\" variable is bieng passed to the model through llm object.\n",
    "<font>"
   ]
  },
  {
   "cell_type": "code",
   "execution_count": 7,
   "id": "a2e267f6",
   "metadata": {},
   "outputs": [],
   "source": [
    "our_query = \"What is the currency of India?\"\n",
    "\n",
    "#Last week langchain has recommended to use invoke function for the below please :)\n",
    "completion = llm.invoke(our_query)"
   ]
  },
  {
   "cell_type": "code",
   "execution_count": 8,
   "id": "39f1b87e",
   "metadata": {},
   "outputs": [
    {
     "name": "stdout",
     "output_type": "stream",
     "text": [
      "\n",
      "\n",
      "The currency of India is the Indian Rupee (INR).\n"
     ]
    }
   ],
   "source": [
    "print(completion)"
   ]
  },
  {
   "cell_type": "markdown",
   "id": "e2085724",
   "metadata": {},
   "source": [
    "## Let's use open-source LLM hosted on Hugging Face"
   ]
  },
  {
   "cell_type": "code",
   "execution_count": 9,
   "id": "eb4f9984",
   "metadata": {},
   "outputs": [
    {
     "name": "stdout",
     "output_type": "stream",
     "text": [
      "Collecting huggingface-hub==0.21.4\n",
      "  Downloading huggingface_hub-0.21.4-py3-none-any.whl.metadata (13 kB)\n",
      "Requirement already satisfied: filelock in c:\\users\\wwwdo\\anaconda3\\lib\\site-packages (from huggingface-hub==0.21.4) (3.13.1)\n",
      "Requirement already satisfied: fsspec>=2023.5.0 in c:\\users\\wwwdo\\anaconda3\\lib\\site-packages (from huggingface-hub==0.21.4) (2023.10.0)\n",
      "Requirement already satisfied: requests in c:\\users\\wwwdo\\anaconda3\\lib\\site-packages (from huggingface-hub==0.21.4) (2.31.0)\n",
      "Requirement already satisfied: tqdm>=4.42.1 in c:\\users\\wwwdo\\anaconda3\\lib\\site-packages (from huggingface-hub==0.21.4) (4.65.0)\n",
      "Requirement already satisfied: pyyaml>=5.1 in c:\\users\\wwwdo\\anaconda3\\lib\\site-packages (from huggingface-hub==0.21.4) (6.0.1)\n",
      "Requirement already satisfied: typing-extensions>=3.7.4.3 in c:\\users\\wwwdo\\anaconda3\\lib\\site-packages (from huggingface-hub==0.21.4) (4.9.0)\n",
      "Requirement already satisfied: packaging>=20.9 in c:\\users\\wwwdo\\appdata\\roaming\\python\\python311\\site-packages (from huggingface-hub==0.21.4) (23.2)\n",
      "Requirement already satisfied: colorama in c:\\users\\wwwdo\\appdata\\roaming\\python\\python311\\site-packages (from tqdm>=4.42.1->huggingface-hub==0.21.4) (0.4.6)\n",
      "Requirement already satisfied: charset-normalizer<4,>=2 in c:\\users\\wwwdo\\anaconda3\\lib\\site-packages (from requests->huggingface-hub==0.21.4) (2.0.4)\n",
      "Requirement already satisfied: idna<4,>=2.5 in c:\\users\\wwwdo\\anaconda3\\lib\\site-packages (from requests->huggingface-hub==0.21.4) (3.4)\n",
      "Requirement already satisfied: urllib3<3,>=1.21.1 in c:\\users\\wwwdo\\anaconda3\\lib\\site-packages (from requests->huggingface-hub==0.21.4) (2.0.7)\n",
      "Requirement already satisfied: certifi>=2017.4.17 in c:\\users\\wwwdo\\anaconda3\\lib\\site-packages (from requests->huggingface-hub==0.21.4) (2024.2.2)\n",
      "Downloading huggingface_hub-0.21.4-py3-none-any.whl (346 kB)\n",
      "   ---------------------------------------- 0.0/346.4 kB ? eta -:--:--\n",
      "   ---------------------------------------- 0.0/346.4 kB ? eta -:--:--\n",
      "   - -------------------------------------- 10.2/346.4 kB ? eta -:--:--\n",
      "   --- ----------------------------------- 30.7/346.4 kB 262.6 kB/s eta 0:00:02\n",
      "   ------ -------------------------------- 61.4/346.4 kB 409.6 kB/s eta 0:00:01\n",
      "   ---------- ---------------------------- 92.2/346.4 kB 525.1 kB/s eta 0:00:01\n",
      "   ---------------------- --------------- 204.8/346.4 kB 888.4 kB/s eta 0:00:01\n",
      "   ---------------------------------------  337.9/346.4 kB 1.2 MB/s eta 0:00:01\n",
      "   ---------------------------------------- 346.4/346.4 kB 1.3 MB/s eta 0:00:00\n",
      "Installing collected packages: huggingface-hub\n",
      "Successfully installed huggingface-hub-0.21.4\n"
     ]
    }
   ],
   "source": [
    "!pip install huggingface-hub==0.21.4"
   ]
  },
  {
   "cell_type": "code",
   "execution_count": 48,
   "id": "18ba8425",
   "metadata": {},
   "outputs": [],
   "source": [
    "import os\n",
    "os.environ[\"HUGGINGFACEHUB_API_TOKEN\"] = \"\""
   ]
  },
  {
   "cell_type": "code",
   "execution_count": 49,
   "id": "9548eede",
   "metadata": {},
   "outputs": [],
   "source": [
    "#from langchain.llms import HuggingFaceHub\n",
    "\n",
    "#The above have been updated recently, so going forward we have to use the below :)\n",
    "\n",
    "from langchain.llms import HuggingFaceEndpoint"
   ]
  },
  {
   "cell_type": "code",
   "execution_count": 50,
   "id": "099a0220",
   "metadata": {},
   "outputs": [
    {
     "name": "stdout",
     "output_type": "stream",
     "text": [
      "Token has not been saved to git credential helper. Pass `add_to_git_credential=True` if you want to set the git credential as well.\n",
      "Token is valid (permission: write).\n",
      "Your token has been saved to C:\\Users\\wwwdo\\.cache\\huggingface\\token\n",
      "Login successful\n"
     ]
    }
   ],
   "source": [
    "#llm = HuggingFaceHub(repo_id = \"google/flan-t5-large\")\n",
    "\n",
    "#The above 'HuggingFaceHub' class has been depreciated, so please use the below class'HuggingFaceEndpoint' \n",
    "#and the below mentioned model outperforms most of the available open source LLMs\n",
    "\n",
    "llm = HuggingFaceEndpoint(\n",
    "    repo_id=\"mistralai/Mistral-7B-Instruct-v0.2\") # Model link : https://huggingface.co/mistralai/Mistral-7B-Instruct-v0.2"
   ]
  },
  {
   "cell_type": "code",
   "execution_count": 32,
   "id": "b4252fdd-3eea-4000-bbeb-6156671a0f1b",
   "metadata": {},
   "outputs": [
    {
     "name": "stdout",
     "output_type": "stream",
     "text": [
      "Token has not been saved to git credential helper. Pass `add_to_git_credential=True` if you want to set the git credential as well.\n",
      "Token is valid (permission: write).\n",
      "Your token has been saved to C:\\Users\\wwwdo\\.cache\\huggingface\\token\n",
      "Login successful\n"
     ]
    }
   ],
   "source": [
    "#llm = HuggingFaceHub(repo_id = \"google/flan-t5-large\")\n",
    "\n",
    "#The above 'HuggingFaceHub' class has been depreciated, so please use the below class'HuggingFaceEndpoint' \n",
    "#and the below mentioned model outperforms most of the available open source LLMs\n",
    "\n",
    "llm = HuggingFaceEndpoint(\n",
    "    repo_id=\"google/gemma-7b-it\") # Model link : https://huggingface.co/mistralai/Mistral-7B-Instruct-v0.2"
   ]
  },
  {
   "cell_type": "code",
   "execution_count": 42,
   "id": "c1e4c02e-71e7-4ede-9b58-b9127fbaae39",
   "metadata": {},
   "outputs": [
    {
     "name": "stdout",
     "output_type": "stream",
     "text": [
      "Token has not been saved to git credential helper. Pass `add_to_git_credential=True` if you want to set the git credential as well.\n",
      "Token is valid (permission: write).\n",
      "Your token has been saved to C:\\Users\\wwwdo\\.cache\\huggingface\\token\n",
      "Login successful\n"
     ]
    }
   ],
   "source": [
    "#llm = HuggingFaceHub(repo_id = \"google/flan-t5-large\")\n",
    "\n",
    "#The above 'HuggingFaceHub' class has been depreciated, so please use the below class'HuggingFaceEndpoint' \n",
    "#and the below mentioned model outperforms most of the available open source LLMs\n",
    "\n",
    "llm = HuggingFaceEndpoint(\n",
    "    repo_id=\"Telugu-LLM-Labs/Indic-gemma-2b-finetuned-sft-Navarasa-2.0\") # Model link : https://huggingface.co/mistralai/Mistral-7B-Instruct-v0.2"
   ]
  },
  {
   "cell_type": "code",
   "execution_count": null,
   "id": "00838145-dbba-40ba-afe0-57c28408871d",
   "metadata": {},
   "outputs": [],
   "source": []
  },
  {
   "cell_type": "code",
   "execution_count": null,
   "id": "b820845f-d3fa-4a9d-87b2-42664d87fe6e",
   "metadata": {},
   "outputs": [],
   "source": []
  },
  {
   "cell_type": "code",
   "execution_count": null,
   "id": "b6c65163-7d8c-4fd7-a953-7ed437076505",
   "metadata": {},
   "outputs": [],
   "source": []
  },
  {
   "cell_type": "code",
   "execution_count": null,
   "id": "6e8b3a7a-9043-4e2a-9ef6-b886ea9ad832",
   "metadata": {},
   "outputs": [],
   "source": []
  },
  {
   "cell_type": "code",
   "execution_count": 47,
   "id": "259e2628",
   "metadata": {},
   "outputs": [
    {
     "name": "stdout",
     "output_type": "stream",
     "text": [
      "\n",
      "\n",
      "Answer: Indian Rupee\n"
     ]
    }
   ],
   "source": [
    "print(completion)"
   ]
  },
  {
   "cell_type": "code",
   "execution_count": null,
   "id": "cbd99323-fb6e-46e7-916d-6411c9233288",
   "metadata": {},
   "outputs": [],
   "source": []
  },
  {
   "cell_type": "code",
   "execution_count": null,
   "id": "bd7f0fdf-023b-4fed-8233-848a95048087",
   "metadata": {},
   "outputs": [],
   "source": []
  }
 ],
 "metadata": {
  "kernelspec": {
   "display_name": "Python 3 (ipykernel)",
   "language": "python",
   "name": "python3"
  },
  "language_info": {
   "codemirror_mode": {
    "name": "ipython",
    "version": 3
   },
   "file_extension": ".py",
   "mimetype": "text/x-python",
   "name": "python",
   "nbconvert_exporter": "python",
   "pygments_lexer": "ipython3",
   "version": "3.11.7"
  }
 },
 "nbformat": 4,
 "nbformat_minor": 5
}
